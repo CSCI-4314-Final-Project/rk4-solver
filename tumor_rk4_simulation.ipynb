{
 "cells": [
  {
   "cell_type": "code",
   "execution_count": 1,
   "metadata": {},
   "outputs": [],
   "source": [
    "import math\n",
    "import numpy as np\n",
    "import matplotlib.pyplot as plt"
   ]
  },
  {
   "cell_type": "code",
   "execution_count": 2,
   "metadata": {},
   "outputs": [],
   "source": [
    "def tumor_cell_population_function(T,E,M):\n",
    "    \"\"\"\n",
    "    Creates a differential equation to model a tumor cell population over time\n",
    "    \n",
    "    Parameters: \n",
    "    ----------\n",
    "    r : float\n",
    "        rate of tumor growth\n",
    "    T : float\n",
    "        number of tumor cells for time t\n",
    "    b : float\n",
    "        capacity of the tumor cell\n",
    "    a : float\n",
    "        paramter of cancer cleanup\n",
    "    E : float\n",
    "        number of effector cells at time t\n",
    "    g : float\n",
    "        half-saturation for cancer cleanup\n",
    "    K_t : float\n",
    "        rate of tumor cell death by chemotherapy drug\n",
    "    M : float\n",
    "        concentration of chemotherapy drug at time t\n",
    "    Returns: \n",
    "    -------\n",
    "    float\n",
    "        change in tumor cells after one timestep\n",
    "    \"\"\"\n",
    "    r = 4.31 * 10**(-3)\n",
    "    b = 10**(-9)\n",
    "    a = 3.41 * 10**(-10)\n",
    "    g = 10**5\n",
    "    K_t = 1 # not sure what this is yet\n",
    "    dT = r*T*(1-(b*T))-a*((E*T)/(T+g))-(K_t*M*T)\n",
    "    return dT"
   ]
  },
  {
   "cell_type": "code",
   "execution_count": 3,
   "metadata": {},
   "outputs": [],
   "source": [
    "def tumor_effector_chemo_forward_integrate(initial_conditions, params, t):\n",
    "    \"\"\"\n",
    "    Forward integrates the tumor, effector, chemotherapy model\n",
    "    \n",
    "    Parameters: \n",
    "    ----------\n",
    "    initial_conditions : (int, int, int)\n",
    "        Tuple of initial conditions for the IVP\n",
    "    params : floats\n",
    "        parameters of the model\n",
    "    t : [ints]\n",
    "        an array of timepoints, ASSUMED TO BE EQUALLY SPACED. \n",
    "    Returns: \n",
    "    -------\n",
    "    np.array, np.array, np.array\n",
    "        Returns a numpy array of T, E, and M arrays.\n",
    "    \"\"\"\n",
    "    T0, E0, M0 = initial_conditions\n",
    "    T, E, M = [T0], [E0], [M0]\n",
    "    p, r, b, a, g, s, m, mu, gamma, h, K_t, K_e, V_m = params\n",
    "    dt = t[1] - t[0]\n",
    "\n",
    "    for _ in t[1:]:\n",
    "        Tt = T[-1] + (r*T[-1]*(1-(b*T[-1]))-a*((E[-1]*T[-1])/(T[-1]+g))-(K_t*M[-1]*T[-1]))*dt\n",
    "        Et = E[-1] + (s-(mu*E[-1]) + p*((E[-1]*T[-1])/(h+T[-1])) - (m*E[-1]*T[-1]) - (K_e*M[-1]*E[-1]))*dt\n",
    "        Mt = M[-1] + (-gamma*M[-1] + V_m)*dt\n",
    "        T.append(Tt)\n",
    "        E.append(Et)\n",
    "        M.append(Mt)\n",
    "    return T, E, M"
   ]
  },
  {
   "cell_type": "code",
   "execution_count": 4,
   "metadata": {},
   "outputs": [
    {
     "data": {
      "text/plain": [
       "Text(0, 0.5, 'Cell Population')"
      ]
     },
     "execution_count": 4,
     "metadata": {},
     "output_type": "execute_result"
    },
    {
     "data": {
      "image/png": "[encoded data removed]",
      "text/plain": [
       "<Figure size 432x288 with 1 Axes>"
      ]
     },
     "metadata": {
      "needs_background": "light"
     },
     "output_type": "display_data"
    }
   ],
   "source": [
    "T0 = 40000\n",
    "E0 = 30000\n",
    "M0 = 0\n",
    "initial_conditions = (T0, E0, M0)\n",
    "\n",
    "p = 0.015\n",
    "r = 4.31e-3 # Rate of tumor growth\n",
    "b = 10e-9\n",
    "a = 3.41e-10\n",
    "g = 10e5\n",
    "s = 1.2e4\n",
    "m = 2e-11\n",
    "mu = 4.12e-2\n",
    "gamma = 0.9\n",
    "h = 2.02e1\n",
    "K_t = 0.7\n",
    "K_e = 0.6\n",
    "V_m = 0.5 # Rate of concentration of chemotherapy \n",
    "params = p, r, b, a, g, s, m, mu, gamma, h, K_t, K_e, V_m\n",
    "\n",
    "# Timesteps in days\n",
    "t_max = 50\n",
    "dt = 1\n",
    "t = np.linspace(0, t_max, int(t_max/dt) + 1)\n",
    "\n",
    "results = tumor_effector_chemo_forward_integrate(initial_conditions, params, t)\n",
    "\n",
    "# Plot Results\n",
    "colors = {\n",
    "'T':'red',\n",
    "'E':'black',\n",
    "'M':'#FFA737'}\n",
    "\n",
    "# Set up the axes\n",
    "fig, ax = plt.subplots(nrows=1,ncols=1)\n",
    "T,E,M = results\n",
    "plt.plot(t,T,label='T',color=colors['T'],linewidth=2)\n",
    "plt.plot(t,E,label='E',color=colors['E'],linewidth=2)\n",
    "plt.plot(t,M,label='M',color=colors['M'],linewidth=2)\n",
    "\n",
    "# Make the plot attractive\n",
    "ax.legend(loc='best')\n",
    "ax.set_xlabel('time (days)')\n",
    "ax.set_ylabel('Cell Population')"
   ]
  },
  {
   "cell_type": "code",
   "execution_count": 5,
   "metadata": {},
   "outputs": [
    {
     "data": {
      "text/plain": [
       "Text(0, 0.5, 'Cell Population')"
      ]
     },
     "execution_count": 5,
     "metadata": {},
     "output_type": "execute_result"
    },
    {
     "data": {
      "image/png": "[encoded data removed]",
      "text/plain": [
       "<Figure size 432x288 with 1 Axes>"
      ]
     },
     "metadata": {
      "needs_background": "light"
     },
     "output_type": "display_data"
    }
   ],
   "source": [
    "T0 = 40000\n",
    "E0 = 30000\n",
    "M0 = 0\n",
    "initial_conditions = (T0, E0, M0)\n",
    "\n",
    "p = 0.015\n",
    "r = 0.47 # Rate of tumor growth\n",
    "b = 10e-9\n",
    "a = 3.41e-10\n",
    "g = 10e5\n",
    "s = 1.2e4\n",
    "m = 2e-11\n",
    "mu = 4.12e-2\n",
    "gamma = 0.9\n",
    "h = 2.02e1\n",
    "K_t = 0.8\n",
    "K_e = 0.6\n",
    "V_m = 0.5 # Rate of concentration of chemotherapy\n",
    "params = p, r, b, a, g, s, m, mu, gamma, h, K_t, K_e, V_m\n",
    "\n",
    "# Timesteps in days\n",
    "t_max = 50\n",
    "dt = 1\n",
    "t = np.linspace(0, t_max, int(t_max/dt) + 1)\n",
    "\n",
    "results = tumor_effector_chemo_forward_integrate(initial_conditions, params, t)\n",
    "\n",
    "# Plot Results\n",
    "colors = {\n",
    "'T':'red',\n",
    "'E':'black',\n",
    "'M':'#FFA737'}\n",
    "\n",
    "# Set up the axes\n",
    "fig, ax = plt.subplots(nrows=1,ncols=1)\n",
    "T,E,M = results\n",
    "plt.plot(t,T,label='T',color=colors['T'],linewidth=2)\n",
    "plt.plot(t,E,label='E',color=colors['E'],linewidth=2)\n",
    "plt.plot(t,M,label='M',color=colors['M'],linewidth=2)\n",
    "\n",
    "# Make the plot attractive\n",
    "ax.legend(loc='best')\n",
    "ax.set_xlim(left=0)\n",
    "ax.set_ylim([0, 250000])\n",
    "ax.set_xlabel('time (days)')\n",
    "ax.set_ylabel('Cell Population')"
   ]
  },
  {
   "cell_type": "code",
   "execution_count": 6,
   "metadata": {},
   "outputs": [
    {
     "data": {
      "text/plain": [
       "Text(0, 0.5, 'Cell Population')"
      ]
     },
     "execution_count": 6,
     "metadata": {},
     "output_type": "execute_result"
    },
    {
     "data": {
      "image/png": "[encoded data removed]",
      "text/plain": [
       "<Figure size 432x288 with 1 Axes>"
      ]
     },
     "metadata": {
      "needs_background": "light"
     },
     "output_type": "display_data"
    }
   ],
   "source": [
    "T0 = 40000\n",
    "E0 = 30000\n",
    "M0 = 0\n",
    "initial_conditions = (T0, E0, M0)\n",
    "\n",
    "p = 0.015\n",
    "r = 0.47 # Rate of tumor growth\n",
    "b = 10e-9\n",
    "a = 3.41e-10\n",
    "g = 10e5\n",
    "s = 1.2e4\n",
    "m = 2e-11\n",
    "mu = 4.12e-2\n",
    "gamma = 0.9\n",
    "h = 2.02e1\n",
    "K_t = 0.8\n",
    "K_e = 0.6\n",
    "V_m = 0.6 # Rate of concentration of chemotherapy\n",
    "params = p, r, b, a, g, s, m, mu, gamma, h, K_t, K_e, V_m\n",
    "\n",
    "# Timesteps in days\n",
    "t_max = 50\n",
    "dt = 1\n",
    "t = np.linspace(0, t_max, int(t_max/dt) + 1)\n",
    "\n",
    "results = tumor_effector_chemo_forward_integrate(initial_conditions, params, t)\n",
    "\n",
    "# Plot Results\n",
    "colors = {\n",
    "'T':'red',\n",
    "'E':'black',\n",
    "'M':'#FFA737'}\n",
    "\n",
    "# Set up the axes\n",
    "fig, ax = plt.subplots(nrows=1,ncols=1)\n",
    "T,E,M = results\n",
    "plt.plot(t,T,label='T',color=colors['T'],linewidth=2)\n",
    "plt.plot(t,E,label='E',color=colors['E'],linewidth=2)\n",
    "plt.plot(t,M,label='M',color=colors['M'],linewidth=2)\n",
    "\n",
    "# Make the plot attractive\n",
    "ax.legend(loc='best')\n",
    "ax.set_xlim(left=0)\n",
    "ax.set_ylim([0, 250000])\n",
    "ax.set_xlabel('time (days)')\n",
    "ax.set_ylabel('Cell Population')"
   ]
  },
  {
   "cell_type": "code",
   "execution_count": null,
   "metadata": {},
   "outputs": [],
   "source": []
  }
 ],
 "metadata": {
  "kernelspec": {
   "display_name": "Python 3",
   "language": "python",
   "name": "python3"
  },
  "language_info": {
   "codemirror_mode": {
    "name": "ipython",
    "version": 3
   },
   "file_extension": ".py",
   "mimetype": "text/x-python",
   "name": "python",
   "nbconvert_exporter": "python",
   "pygments_lexer": "ipython3",
   "version": "3.8.5"
  }
 },
 "nbformat": 4,
 "nbformat_minor": 4
}
