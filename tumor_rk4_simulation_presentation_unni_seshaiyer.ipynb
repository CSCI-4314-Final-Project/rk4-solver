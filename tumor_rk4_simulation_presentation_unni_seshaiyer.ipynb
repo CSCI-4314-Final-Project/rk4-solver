{
 "cells": [
  {
   "cell_type": "code",
   "execution_count": 2,
   "metadata": {},
   "outputs": [],
   "source": [
    "import math\n",
    "import numpy as np\n",
    "import matplotlib.pyplot as plt"
   ]
  },
  {
   "cell_type": "code",
   "execution_count": 8,
   "metadata": {},
   "outputs": [],
   "source": [
    "def tumor_cell_population_function(T,E,M):\n",
    "    \"\"\"\n",
    "    Creates a differential equation to model a tumor cell population over time\n",
    "    \n",
    "    Parameters: \n",
    "    ----------\n",
    "    r : float\n",
    "        rate of tumor growth\n",
    "    T : float\n",
    "        number of tumor cells for time t\n",
    "    b : float\n",
    "        capacity of the tumor cell\n",
    "    a : float\n",
    "        paramter of cancer cleanup\n",
    "    E : float\n",
    "        number of effector cells at time t\n",
    "    g : float\n",
    "        half-saturation for cancer cleanup\n",
    "    K_t : float\n",
    "        rate of tumor cell death by chemotherapy drug\n",
    "    M : float\n",
    "        concentration of chemotherapy drug at time t\n",
    "    Returns: \n",
    "    -------\n",
    "    float\n",
    "        change in tumor cells after one timestep\n",
    "    \"\"\"\n",
    "    r = 4.31 * 10**(-3)\n",
    "    b = 10**(-9)\n",
    "    a = 3.41 * 10**(-10)\n",
    "    g = 10**5\n",
    "    K_t = 1 # not sure what this is yet\n",
    "    dT = r*T*(1-(b*T))-a*((E*T)/(T+g))-(K_t*M*T)\n",
    "    return dT"
   ]
  },
  {
   "cell_type": "code",
   "execution_count": 9,
   "metadata": {},
   "outputs": [],
   "source": [
    "def z_M(M):\n",
    "    return 1 - np.exp(-M)\n",
    "\n",
    "def tumor_immune_chemo_forward_integrate(initial_conditions, params, t):\n",
    "    \"\"\"\n",
    "    Forward integrates the tumor, dendritic, NK T, CD8+ T cell, chemotherapy model\n",
    "    \n",
    "    Parameters: \n",
    "    ----------\n",
    "    initial_conditions : (int, int, int, int, int, int)\n",
    "        Tuple of initial conditions for the IVP\n",
    "    params : floats\n",
    "        parameters of the model\n",
    "    t : [ints]\n",
    "        an array of timepoints, ASSUMED TO BE EQUALLY SPACED. \n",
    "    Returns: \n",
    "    -------\n",
    "    np.array, np.array, np.array\n",
    "        Returns a numpy array of T, N, D, and M arrays.\n",
    "    \"\"\"\n",
    "    T0, N0, D0, L0, M0, I0 = initial_conditions\n",
    "    T, N, D, L, M, I = [T0], [N0], [D0], [L0], [M0], [I0]\n",
    "    a, b, c1, j, k, K_T, s1, g1, h1, c2, d1, K_N, e, s2, f1, d2, d3, K_D, g, f2, h, u, r1, p_I, g_I, i, v_L, d4, V_m, d5, V_i, K_L = params\n",
    "    dt = t[1] - t[0]\n",
    "\n",
    "    for _ in t[1:]:\n",
    "        Tt = T[-1] + (a*T[-1]*(1 - b*T[-1]) - (c1*N[-1] + j*D[-1] + k*L[-1])*T[-1] - K_T*z_M(M[-1])*T[-1])*dt\n",
    "        Nt = N[-1] + (s1+((g1 * N[-1]*T[-1]**2) / (h1 + T[-1]**2))-((c2*T[-1] - d1*D[-1])*N[-1]) - K_N*z_M(M[-1])*N[-1] - e*N[-1])*dt\n",
    "        Dt = D[-1] + (s2 - (f1*L[-1] + d2*N[-1] - d3*T[-1])*D[-1] - K_D*z_M(M[-1])*D[-1] - g*D[-1])*dt\n",
    "        Lt = L[-1] + (f2*D[-1]*T[-1] - h*L[-1]*T[-1] - u*N[-1]*(L[-1]**2) + r1*N[-1]*T[-1] + ((p_I * L[-1]*I[-1]) / (g_I + I[-1])) - K_L*z_M(M[-1])*L[-1] - i*L[-1] + v_L)*dt\n",
    "        Mt = M[-1] + (-d4*M[-1] + V_m)*dt\n",
    "        It = I[-1] + (-d5*I[-1] + V_i)*dt\n",
    "        \n",
    "        T.append(Tt)\n",
    "        N.append(Nt)\n",
    "        D.append(Dt)\n",
    "        L.append(Lt)\n",
    "        M.append(Mt)\n",
    "        I.append(It)\n",
    "    return T, N, D, L, M, I"
   ]
  },
  {
   "cell_type": "code",
   "execution_count": 10,
   "metadata": {},
   "outputs": [],
   "source": [
    "def chemo_forward_integrate(initial_conditions, params, t):\n",
    "    \"\"\"\n",
    "    Forward integrates just the chemotherapy model\n",
    "    \n",
    "    Parameters: \n",
    "    ----------\n",
    "    initial_conditions : (int, int, int)\n",
    "        Tuple of initial conditions for the IVP\n",
    "    params : floats\n",
    "        parameters of the model\n",
    "    t : [ints]\n",
    "        an array of timepoints, ASSUMED TO BE EQUALLY SPACED. \n",
    "    Returns: \n",
    "    -------\n",
    "    np.array, np.array, np.array\n",
    "        Returns a numpy array of M arrays.\n",
    "    \"\"\"\n",
    "    M0 = initial_conditions\n",
    "    M = [M0]\n",
    "    \n",
    "    gamma, V_m = params\n",
    "    dt = t[1] - t[0]\n",
    "    \n",
    "    for _ in t[1:]:\n",
    "        Mt = M[-1] + (-gamma*M[-1] + V_m)*dt\n",
    "        M.append(Mt)\n",
    "    return M"
   ]
  },
  {
   "cell_type": "code",
   "execution_count": 11,
   "metadata": {},
   "outputs": [
    {
     "data": {
      "text/plain": [
       "Text(0, 0.5, 'Cell Population')"
      ]
     },
     "execution_count": 11,
     "metadata": {},
     "output_type": "execute_result"
    },
    {
     "data": {
      "image/png": "[encoded data removed]",
      "text/plain": [
       "<Figure size 576x432 with 1 Axes>"
      ]
     },
     "metadata": {
      "needs_background": "light"
     },
     "output_type": "display_data"
    }
   ],
   "source": [
    "# First computation\n",
    "\n",
    "T0 = 100\n",
    "N0 = 1\n",
    "D0 = 1\n",
    "L0 = 1\n",
    "M0 = 0.5\n",
    "I0 = 0.5\n",
    "initial_conditions = (T0, N0, D0, L0, M0, I0)\n",
    "\n",
    "# a, b, c1, j, k, K_T, s1, g1, h1, c2, d1, K_N, e, s2, f1, d2, d3, K_D, g, f2, h, u, r1, p_I, g_I, i, v_L, d4, V_m, d5, V_i, K_L\n",
    "a = 4.31e-1 # Tumor growth rate\n",
    "b = 2.17e-8 # Tumor carrying capacity\n",
    "c1 = 3.5e-6 # NK cell tumor cell kill rate\n",
    "j = 1e-7 # dendritic cell tumor cell kill rate\n",
    "k = 1e-7 # CD8+ T cell tumor cell kill rate\n",
    "K_T = 0\n",
    "\n",
    "s1 = 1.3e4 # source of NK cells\n",
    "g1 = 0\n",
    "h1 = 0\n",
    "c2 = 1e-7 # NK cell inactivation rate\n",
    "d1 = 1e-6 # rate of dendritic cell priming NK cells\n",
    "K_N = 0\n",
    "e = 4.12e-2 # death rate of NK cell\n",
    "\n",
    "s2 = 4.8e2 # source of dendritic cell\n",
    "f1 = 1e-8 # CD8+ T cell dendritic cells kill rate\n",
    "d2 = 4e-6 # NK cell dendritic cell kill rate\n",
    "d3 = 0 # rate of tumor cells priming dendritic cells, originally 1e-4\n",
    "K_L = 0\n",
    "g = 2.4e-2 # death rate of dendritic cells\n",
    "\n",
    "f2 = 0.01 # rate of dendritic cells priming CD8+ T cell\n",
    "h = 3.42e-10 # T inactivation rate by tumor cells\n",
    "u = 0 # regulatory function by Nk cells of CD8+ T cells, originally 1.8e-8\n",
    "r1 = 0\n",
    "p_I = 0\n",
    "g_I = 0\n",
    "i = 2e-2 # death rate of CD8+ T cells\n",
    "v_L = 0\n",
    "\n",
    "d4 = 0\n",
    "V_m = 0\n",
    "d5 = 0\n",
    "V_i = 0\n",
    "K_D = 0\n",
    "\n",
    "params = a, b, c1, j, k, K_T, s1, g1, h1, c2, d1, K_N, e, s2, f1, d2, d3, K_D, g, f2, h, u, r1, p_I, g_I, i, v_L, d4, V_m, d5, V_i, K_L\n",
    "\n",
    "# Timesteps in days\n",
    "t_max = 100\n",
    "dt = 1\n",
    "t = np.linspace(0, t_max, int(t_max/dt) + 1)\n",
    "\n",
    "results = tumor_immune_chemo_forward_integrate(initial_conditions, params, t)\n",
    "\n",
    "# Plot Results\n",
    "colors = {\n",
    "'T':'red',\n",
    "'N':'black',\n",
    "'D':'#FFA737',\n",
    "'L': 'blue'\n",
    "}\n",
    "\n",
    "# Set up the axes\n",
    "fig, ax = plt.subplots(figsize=(8,6), nrows=1,ncols=1)\n",
    "T,N,D,L,M,I = results\n",
    "plt.plot(t,T,label='Tumor',color=colors['T'],linewidth=2)\n",
    "plt.plot(t,N,label='NK Cells',color=colors['N'],linewidth=2)\n",
    "plt.plot(t,D,label='Dendritic Cells',color=colors['D'],linewidth=2)\n",
    "plt.plot(t,L,label='CD8+ T Cells',color=colors['L'],linewidth=2)\n",
    "\n",
    "# Make the plot attractive\n",
    "ax.legend(loc='best')\n",
    "ax.set_xlabel('time (days)')\n",
    "ax.set_ylabel('Cell Population')"
   ]
  },
  {
   "cell_type": "code",
   "execution_count": 12,
   "metadata": {},
   "outputs": [
    {
     "name": "stdout",
     "output_type": "stream",
     "text": [
      "905.9231616477792\n"
     ]
    },
    {
     "data": {
      "image/png": "[encoded data removed]",
      "text/plain": [
       "<Figure size 432x288 with 1 Axes>"
      ]
     },
     "metadata": {
      "needs_background": "light"
     },
     "output_type": "display_data"
    }
   ],
   "source": [
    "plt.plot(t,T,label='T Cells',color=colors['D'],linewidth=2)\n",
    "print(np.max(T))"
   ]
  },
  {
   "cell_type": "code",
   "execution_count": 13,
   "metadata": {},
   "outputs": [],
   "source": [
    "def z_M(M):\n",
    "    return 1 - np.exp(-M)\n",
    "\n",
    "def tumor_immune_chemo_forward_integrate_simplified(initial_conditions, params, t):\n",
    "    \"\"\"\n",
    "    Forward integrates the tumor, dendritic, NK T, CD8+ T cell, chemotherapy model\n",
    "    \n",
    "    Parameters: \n",
    "    ----------\n",
    "    initial_conditions : (int, int, int, int, int, int)\n",
    "        Tuple of initial conditions for the IVP\n",
    "    params : floats\n",
    "        parameters of the model\n",
    "    t : [ints]\n",
    "        an array of timepoints, ASSUMED TO BE EQUALLY SPACED. \n",
    "    Returns: \n",
    "    -------\n",
    "    np.array, np.array, np.array\n",
    "        Returns a numpy array of T, N, D, and M arrays.\n",
    "    \"\"\"\n",
    "    T0, N0, D0, L0, M0, I0 = initial_conditions\n",
    "    T, N, D, L, M, I = [T0], [N0], [D0], [L0], [M0], [I0]\n",
    "    a, b, c1, j, k, K_T, s1, g1, h1, c2, d1, K_N, e, s2, f1, d2, d3, K_D, g, f2, h, u, r1, p_I, g_I, i, v_L, d4, V_m, d5, V_i, K_L = params\n",
    "    dt = t[1] - t[0]\n",
    "\n",
    "    for _ in t[1:]:\n",
    "        Tt = T[-1] + (a*T[-1]*(1 - b*T[-1]) - (c1*N[-1] + j*D[-1] + k*L[-1])*T[-1] - K_T*z_M(M[-1])*T[-1])*dt\n",
    "        Nt = N[-1] + (s1-((c2*T[-1] - d1*D[-1])*N[-1]) - K_N*z_M(M[-1])*N[-1] - e*N[-1])*dt\n",
    "        Dt = D[-1] + (s2 - (f1*L[-1] + d2*N[-1] - d3*T[-1])*D[-1] - K_D*z_M(M[-1])*D[-1] - g*D[-1])*dt\n",
    "        Lt = L[-1] + (f2*D[-1]*T[-1] - h*L[-1]*T[-1] - u*N[-1]*(L[-1]**2) - K_L*z_M(M[-1])*L[-1] - i*L[-1] + v_L)*dt\n",
    "        Mt = M[-1] + (-d4*M[-1] + V_m)*dt\n",
    "        It = I[-1] + (-d5*I[-1] + V_i)*dt\n",
    "        \n",
    "        T.append(Tt)\n",
    "        N.append(Nt)\n",
    "        D.append(Dt)\n",
    "        L.append(Lt)\n",
    "        M.append(Mt)\n",
    "        I.append(It)\n",
    "    return T, N, D, L, M, I"
   ]
  },
  {
   "cell_type": "code",
   "execution_count": 14,
   "metadata": {
    "scrolled": false
   },
   "outputs": [
    {
     "name": "stdout",
     "output_type": "stream",
     "text": [
      "[100, 139.5583124104137, 44.03467300616333, 103018.98829568941, 2520932926924924.5, 9.64409340654968e+39, 1.3156178139676611e+93, 5.55099942641291e+211, -inf, nan, nan, nan, nan, nan, nan, nan, nan, nan, nan, nan, nan, nan, nan, nan, nan, nan, nan, nan, nan, nan, nan, nan, nan, nan, nan, nan, nan, nan, nan, nan, nan, nan, nan, nan, nan, nan, nan, nan, nan, nan, nan, nan, nan, nan, nan, nan, nan, nan, nan, nan, nan, nan, nan, nan, nan, nan, nan, nan, nan, nan, nan, nan, nan, nan, nan, nan, nan, nan, nan, nan, nan, nan, nan, nan, nan, nan, nan, nan, nan, nan, nan, nan, nan, nan, nan, nan, nan, nan, nan, nan, nan]\n"
     ]
    },
    {
     "name": "stderr",
     "output_type": "stream",
     "text": [
      "/Users/sarthakshukla/Library/Python/3.7/lib/python/site-packages/ipykernel_launcher.py:27: RuntimeWarning: overflow encountered in double_scalars\n",
      "/Users/sarthakshukla/Library/Python/3.7/lib/python/site-packages/ipykernel_launcher.py:28: RuntimeWarning: overflow encountered in double_scalars\n",
      "/Users/sarthakshukla/Library/Python/3.7/lib/python/site-packages/ipykernel_launcher.py:29: RuntimeWarning: overflow encountered in double_scalars\n",
      "/Users/sarthakshukla/Library/Python/3.7/lib/python/site-packages/ipykernel_launcher.py:30: RuntimeWarning: overflow encountered in double_scalars\n",
      "/Users/sarthakshukla/Library/Python/3.7/lib/python/site-packages/ipykernel_launcher.py:30: RuntimeWarning: invalid value encountered in double_scalars\n",
      "/Users/sarthakshukla/Library/Python/3.7/lib/python/site-packages/ipykernel_launcher.py:28: RuntimeWarning: invalid value encountered in double_scalars\n"
     ]
    },
    {
     "data": {
      "text/plain": [
       "Text(0, 0.5, 'Cell Population')"
      ]
     },
     "execution_count": 14,
     "metadata": {},
     "output_type": "execute_result"
    },
    {
     "data": {
      "image/png": "[encoded data removed]",
      "text/plain": [
       "<Figure size 576x432 with 1 Axes>"
      ]
     },
     "metadata": {
      "needs_background": "light"
     },
     "output_type": "display_data"
    }
   ],
   "source": [
    "# Effect of drugs on tumor cells computation (Figure 8)\n",
    "\n",
    "T0 = 100\n",
    "N0 = 1\n",
    "D0 = 1\n",
    "L0 = 1\n",
    "M0 = 0.5\n",
    "I0 = 0.5\n",
    "initial_conditions = (T0, N0, D0, L0, M0, I0)\n",
    "\n",
    "# a, b, c1, j, k, K_T, s1, g1, h1, c2, d1, K_N, e, s2, f1, d2, d3, K_D, g, f2, h, u, r1, p_I, g_I, i, v_L, d4, V_m, d5, V_i, K_L\n",
    "a = 4.31e-1 # Tumor growth rate\n",
    "b = 2.17e-8 # Tumor carrying capacity\n",
    "c1 = 3.5e-6 # NK cell tumor cell kill rate\n",
    "j = 1e-7 # dendritic cell tumor cell kill rate\n",
    "k = 1e-7 # CD8+ T cell tumor cell kill rate\n",
    "K_T = 9e-2\n",
    "\n",
    "s1 = 1.3e4 # source of NK cells\n",
    "g1 = 0\n",
    "h1 = 0\n",
    "c2 = 1e-7 # NK cell inactivation rate\n",
    "d1 = 1e-6 # rate of dendritic cell priming NK cells\n",
    "K_N = 6e-2\n",
    "e = 4.12e-2 # death rate of NK cell\n",
    "\n",
    "s2 = 4.8e2 # source of dendritic cell\n",
    "f1 = 1e-8 # CD8+ T cell dendritic cells kill rate\n",
    "d2 = 4e-6 # NK cell dendritic cell kill rate\n",
    "d3 = 1e-4 # rate of tumor cells priming dendritic cells, originally 1e-4\n",
    "K_L = 6e-2\n",
    "g = 2.4e-2 # death rate of dendritic cells\n",
    "\n",
    "f2 = 0.01 # rate of dendritic cells priming CD8+ T cell\n",
    "h = 3.42e-10 # T inactivation rate by tumor cells\n",
    "u = 1.8e-8 # regulatory function by Nk cells of CD8+ T cells, originally 1.8e-8\n",
    "r1 = 0\n",
    "p_I = 0\n",
    "g_I = 0\n",
    "i = 2e-2 # death rate of CD8+ T cells\n",
    "v_L = 10e6\n",
    "\n",
    "d4 = 0\n",
    "V_m = 1\n",
    "d5 = 0\n",
    "V_i = 0\n",
    "K_D = 6e-2\n",
    "\n",
    "params = a, b, c1, j, k, K_T, s1, g1, h1, c2, d1, K_N, e, s2, f1, d2, d3, K_D, g, f2, h, u, r1, p_I, g_I, i, v_L, d4, V_m, d5, V_i, K_L\n",
    "\n",
    "# Timesteps in days\n",
    "t_max = 100\n",
    "dt = 1\n",
    "t = np.linspace(0, t_max, int(t_max/dt) + 1)\n",
    "\n",
    "results = tumor_immune_chemo_forward_integrate_simplified(initial_conditions, params, t)\n",
    "\n",
    "# Plot Results\n",
    "colors = {\n",
    "'T':'red',\n",
    "'N':'black',\n",
    "'D':'#FFA737',\n",
    "'L': 'blue'\n",
    "}\n",
    "\n",
    "# Set up the axes\n",
    "fig, ax = plt.subplots(figsize=(8,6), nrows=1,ncols=1)\n",
    "T,N,D,L,M,I = results\n",
    "print(T)\n",
    "plt.plot(t,T,label='Tumor',color=colors['T'],linewidth=2)\n",
    "#plt.plot(t,N,label='NK Cells',color=colors['N'],linewidth=2)\n",
    "#plt.plot(t,D,label='Dendritic Cells',color=colors['D'],linewidth=2)\n",
    "#plt.plot(t,L,label='CD8+ T Cells',color=colors['L'],linewidth=2)\n",
    "\n",
    "# Make the plot attractive\n",
    "ax.legend(loc='best')\n",
    "ax.set_xlabel('time (days)')\n",
    "ax.set_ylabel('Cell Population')"
   ]
  },
  {
   "cell_type": "code",
   "execution_count": 15,
   "metadata": {},
   "outputs": [
    {
     "ename": "NameError",
     "evalue": "name 'tumor_effector_chemo_forward_integrate' is not defined",
     "output_type": "error",
     "traceback": [
      "\u001b[0;31m---------------------------------------------------------------------------\u001b[0m",
      "\u001b[0;31mNameError\u001b[0m                                 Traceback (most recent call last)",
      "\u001b[0;32m/var/folders/kr/m6vn45tx0p33n65v1q9plv6w0000gn/T/ipykernel_71427/3373733273.py\u001b[0m in \u001b[0;36m<module>\u001b[0;34m\u001b[0m\n\u001b[1;32m     24\u001b[0m \u001b[0mt\u001b[0m \u001b[0;34m=\u001b[0m \u001b[0mnp\u001b[0m\u001b[0;34m.\u001b[0m\u001b[0mlinspace\u001b[0m\u001b[0;34m(\u001b[0m\u001b[0;36m0\u001b[0m\u001b[0;34m,\u001b[0m \u001b[0mt_max\u001b[0m\u001b[0;34m,\u001b[0m \u001b[0mint\u001b[0m\u001b[0;34m(\u001b[0m\u001b[0mt_max\u001b[0m\u001b[0;34m/\u001b[0m\u001b[0mdt\u001b[0m\u001b[0;34m)\u001b[0m \u001b[0;34m+\u001b[0m \u001b[0;36m1\u001b[0m\u001b[0;34m)\u001b[0m\u001b[0;34m\u001b[0m\u001b[0;34m\u001b[0m\u001b[0m\n\u001b[1;32m     25\u001b[0m \u001b[0;34m\u001b[0m\u001b[0m\n\u001b[0;32m---> 26\u001b[0;31m \u001b[0mresults\u001b[0m \u001b[0;34m=\u001b[0m \u001b[0mtumor_effector_chemo_forward_integrate\u001b[0m\u001b[0;34m(\u001b[0m\u001b[0minitial_conditions\u001b[0m\u001b[0;34m,\u001b[0m \u001b[0mparams\u001b[0m\u001b[0;34m,\u001b[0m \u001b[0mt\u001b[0m\u001b[0;34m)\u001b[0m\u001b[0;34m\u001b[0m\u001b[0;34m\u001b[0m\u001b[0m\n\u001b[0m\u001b[1;32m     27\u001b[0m \u001b[0;34m\u001b[0m\u001b[0m\n\u001b[1;32m     28\u001b[0m \u001b[0;31m# Plot Results\u001b[0m\u001b[0;34m\u001b[0m\u001b[0;34m\u001b[0m\u001b[0;34m\u001b[0m\u001b[0m\n",
      "\u001b[0;31mNameError\u001b[0m: name 'tumor_effector_chemo_forward_integrate' is not defined"
     ]
    }
   ],
   "source": [
    "T0 = 40000\n",
    "E0 = 30000\n",
    "M0 = 0\n",
    "initial_conditions = (T0, E0, M0)\n",
    "\n",
    "p = 0.015\n",
    "r = 0.47 # Rate of tumor growth\n",
    "b = 10e-9\n",
    "a = 3.41e-10\n",
    "g = 10e5\n",
    "s = 1.2e4\n",
    "m = 2e-11\n",
    "mu = 4.12e-2\n",
    "gamma = 0.9\n",
    "h = 2.02e1\n",
    "K_t = 0.8\n",
    "K_e = 0.6\n",
    "V_m = 0.6 # Rate of concentration of chemotherapy\n",
    "params = p, r, b, a, g, s, m, mu, gamma, h, K_t, K_e, V_m\n",
    "\n",
    "# Timesteps in days\n",
    "t_max = 50\n",
    "dt = 1\n",
    "t = np.linspace(0, t_max, int(t_max/dt) + 1)\n",
    "\n",
    "results = tumor_effector_chemo_forward_integrate(initial_conditions, params, t)\n",
    "\n",
    "# Plot Results\n",
    "colors = {\n",
    "'T':'red',\n",
    "'E':'black',\n",
    "'M':'#FFA737'}\n",
    "\n",
    "# Set up the axes\n",
    "fig, ax = plt.subplots(figsize=(8,6), nrows=1,ncols=1)\n",
    "T,E,M = results\n",
    "plt.plot(t,T,label='Tumor',color=colors['T'],linewidth=2)\n",
    "plt.plot(t,E,label='Effector',color=colors['E'],linewidth=2)\n",
    "plt.plot(t,M,label='Concentration',color=colors['M'],linewidth=2)\n",
    "\n",
    "# Make the plot attractive\n",
    "ax.legend(loc='best')\n",
    "ax.set_xlim(left=0)\n",
    "ax.set_xlabel('time (days)')\n",
    "ax.set_ylabel('Cell Population')"
   ]
  },
  {
   "cell_type": "code",
   "execution_count": 16,
   "metadata": {},
   "outputs": [
    {
     "name": "stdout",
     "output_type": "stream",
     "text": [
      "0.5555555555555556\n"
     ]
    },
    {
     "data": {
      "image/png": "[encoded data removed]",
      "text/plain": [
       "<Figure size 576x432 with 1 Axes>"
      ]
     },
     "metadata": {
      "needs_background": "light"
     },
     "output_type": "display_data"
    }
   ],
   "source": [
    "M0 = 0.0\n",
    "initial_conditions = (M0)\n",
    "\n",
    "gamma = 0.9\n",
    "V_m = 0.5 # Rate of concentration of chemotherapy\n",
    "\n",
    "params = gamma, V_m\n",
    "\n",
    "# Timesteps in days\n",
    "t_max = 50\n",
    "dt = 1\n",
    "t = np.linspace(0, t_max, int(t_max/dt) + 1)\n",
    "\n",
    "results = chemo_forward_integrate(initial_conditions, params, t)\n",
    "\n",
    "# Plot Results\n",
    "colors = {\n",
    "'M':'#FFA737'}\n",
    "\n",
    "# Set up the axes\n",
    "fig, ax = plt.subplots(figsize=(8,6), nrows=1,ncols=1)\n",
    "M = results\n",
    "plt.plot(t,M,label='Concentration',color=colors['M'],linewidth=2)\n",
    "\n",
    "# Make the plot attractive\n",
    "ax.legend(loc='best')\n",
    "ax.set_xlim(left=0)\n",
    "ax.set_xlabel('time (days)')\n",
    "ax.set_ylabel('Cell Population')\n",
    "print(np.max(M))"
   ]
  },
  {
   "cell_type": "code",
   "execution_count": 17,
   "metadata": {},
   "outputs": [],
   "source": [
    "def plot_results(results, t, param):\n",
    "    # Plot Results\n",
    "    colors = {\n",
    "    'T':'red',\n",
    "    'E':'black',\n",
    "    'M':'#FFA737'}\n",
    "\n",
    "    # Set up the axes\n",
    "    fig, ax = plt.subplots(nrows=1,ncols=1)\n",
    "    T,E,M = results\n",
    "    plt.plot(t,T,label='T',color=colors['T'],linewidth=2)\n",
    "    plt.plot(t,E,label='E',color=colors['E'],linewidth=2)\n",
    "    plt.plot(t,M,label='M',color=colors['M'],linewidth=2)\n",
    "    plt.title(f'{param[0]} = {param[1]}') # add title to identify which parameter is being changed and what value it has\n",
    "\n",
    "    # Make the plot attractive\n",
    "    ax.legend(loc='best')\n",
    "    ax.set_xlim(left=0)\n",
    "    ax.set_ylim([0, 250000])\n",
    "    ax.set_xlabel('time (days)')\n",
    "    ax.set_ylabel('Cell Population')\n",
    "    \n",
    "    plt.show()"
   ]
  },
  {
   "cell_type": "code",
   "execution_count": 18,
   "metadata": {},
   "outputs": [],
   "source": [
    "def create_param_ls(x):\n",
    "    # takes a parameter and creates a list of 20 values between double and half the original\n",
    "    return np.linspace(x/2, x*2, 20)"
   ]
  },
  {
   "cell_type": "code",
   "execution_count": 19,
   "metadata": {},
   "outputs": [],
   "source": [
    "def initialize():\n",
    "    # innitializes parameters to default values for first paper plot, used for parameter sweeps\n",
    "    T0 = 40000\n",
    "    E0 = 30000\n",
    "    M0 = 0\n",
    "    initial_conditions = (T0, E0, M0)\n",
    "\n",
    "    p = 0.015\n",
    "    r = 4.31e-3 # Rate of tumor growth\n",
    "    b = 10e-9\n",
    "    a = 3.41e-10\n",
    "    g = 10e5\n",
    "    s = 1.2e4\n",
    "    m = 2e-11\n",
    "    mu = 4.12e-2\n",
    "    gamma = 0.9\n",
    "    h = 2.02e1\n",
    "    K_t = 0.7\n",
    "    K_e = 0.6\n",
    "    V_m = 0.5 # Rate of concentration of chemotherapy \n",
    "    params = p, r, b, a, g, s, m, mu, gamma, h, K_t, K_e, V_m\n",
    "    param_dic = {\"p\":p, \"r\":r, \"b\":b, \"a\":a, \"g\":g, \"s\":s, \"m\":m, \"mu\":mu, \"gamma\":gamma, \"h\":h, \"K_t\":K_t, \"K_e\":K_e, \"V_m\":V_m}\n",
    "\n",
    "\n",
    "    # Timesteps in days\n",
    "    t_max = 50\n",
    "    dt = 1\n",
    "    t = np.linspace(0, t_max, int(t_max/dt) + 1)\n",
    "    \n",
    "    return initial_conditions, params, t, param_dic"
   ]
  },
  {
   "cell_type": "code",
   "execution_count": 20,
   "metadata": {},
   "outputs": [],
   "source": [
    "def sweep(param):\n",
    "    initial_conditions, params, t, param_dic = initialize()\n",
    "    ls = [\"K_t\", \"K_e\", \"V_m\", \"gamma\"]\n",
    "    if param in ls:\n",
    "        # i think it is best to keep values below 1, but if they are too far away, keep them within their bounds if that makes sense, so only \n",
    "        # these four will be simple 0 - 1 arange\n",
    "        values = np.arange(0, 1.1, 0.1)\n",
    "    else:\n",
    "        values = create_param_ls(param_dic[param])\n",
    "    for value in values:\n",
    "        param_dic[param] = value\n",
    "        params_new = tuple(param_dic.values())\n",
    "        results = tumor_effector_chemo_forward_integrate(initial_conditions, params_new, t)\n",
    "        plot_results(results, t,[param, value])\n",
    "        "
   ]
  },
  {
   "cell_type": "code",
   "execution_count": 21,
   "metadata": {},
   "outputs": [
    {
     "ename": "NameError",
     "evalue": "name 'tumor_effector_chemo_forward_integrate' is not defined",
     "output_type": "error",
     "traceback": [
      "\u001b[0;31m---------------------------------------------------------------------------\u001b[0m",
      "\u001b[0;31mNameError\u001b[0m                                 Traceback (most recent call last)",
      "\u001b[0;32m/var/folders/kr/m6vn45tx0p33n65v1q9plv6w0000gn/T/ipykernel_71427/3160680464.py\u001b[0m in \u001b[0;36m<module>\u001b[0;34m\u001b[0m\n\u001b[1;32m      2\u001b[0m \u001b[0;31m# starting off with K_t which determines the rate at which tumor cells are killed by chemo\u001b[0m\u001b[0;34m\u001b[0m\u001b[0;34m\u001b[0m\u001b[0;34m\u001b[0m\u001b[0m\n\u001b[1;32m      3\u001b[0m \u001b[0;34m\u001b[0m\u001b[0m\n\u001b[0;32m----> 4\u001b[0;31m \u001b[0msweep\u001b[0m\u001b[0;34m(\u001b[0m\u001b[0;34m\"K_t\"\u001b[0m\u001b[0;34m)\u001b[0m\u001b[0;34m\u001b[0m\u001b[0;34m\u001b[0m\u001b[0m\n\u001b[0m\u001b[1;32m      5\u001b[0m \u001b[0;34m\u001b[0m\u001b[0m\n\u001b[1;32m      6\u001b[0m \u001b[0;34m\u001b[0m\u001b[0m\n",
      "\u001b[0;32m/var/folders/kr/m6vn45tx0p33n65v1q9plv6w0000gn/T/ipykernel_71427/3222984811.py\u001b[0m in \u001b[0;36msweep\u001b[0;34m(param)\u001b[0m\n\u001b[1;32m     11\u001b[0m         \u001b[0mparam_dic\u001b[0m\u001b[0;34m[\u001b[0m\u001b[0mparam\u001b[0m\u001b[0;34m]\u001b[0m \u001b[0;34m=\u001b[0m \u001b[0mvalue\u001b[0m\u001b[0;34m\u001b[0m\u001b[0;34m\u001b[0m\u001b[0m\n\u001b[1;32m     12\u001b[0m         \u001b[0mparams_new\u001b[0m \u001b[0;34m=\u001b[0m \u001b[0mtuple\u001b[0m\u001b[0;34m(\u001b[0m\u001b[0mparam_dic\u001b[0m\u001b[0;34m.\u001b[0m\u001b[0mvalues\u001b[0m\u001b[0;34m(\u001b[0m\u001b[0;34m)\u001b[0m\u001b[0;34m)\u001b[0m\u001b[0;34m\u001b[0m\u001b[0;34m\u001b[0m\u001b[0m\n\u001b[0;32m---> 13\u001b[0;31m         \u001b[0mresults\u001b[0m \u001b[0;34m=\u001b[0m \u001b[0mtumor_effector_chemo_forward_integrate\u001b[0m\u001b[0;34m(\u001b[0m\u001b[0minitial_conditions\u001b[0m\u001b[0;34m,\u001b[0m \u001b[0mparams_new\u001b[0m\u001b[0;34m,\u001b[0m \u001b[0mt\u001b[0m\u001b[0;34m)\u001b[0m\u001b[0;34m\u001b[0m\u001b[0;34m\u001b[0m\u001b[0m\n\u001b[0m\u001b[1;32m     14\u001b[0m         \u001b[0mplot_results\u001b[0m\u001b[0;34m(\u001b[0m\u001b[0mresults\u001b[0m\u001b[0;34m,\u001b[0m \u001b[0mt\u001b[0m\u001b[0;34m,\u001b[0m\u001b[0;34m[\u001b[0m\u001b[0mparam\u001b[0m\u001b[0;34m,\u001b[0m \u001b[0mvalue\u001b[0m\u001b[0;34m]\u001b[0m\u001b[0;34m)\u001b[0m\u001b[0;34m\u001b[0m\u001b[0;34m\u001b[0m\u001b[0m\n\u001b[1;32m     15\u001b[0m \u001b[0;34m\u001b[0m\u001b[0m\n",
      "\u001b[0;31mNameError\u001b[0m: name 'tumor_effector_chemo_forward_integrate' is not defined"
     ]
    }
   ],
   "source": [
    "# Parameter sweep code for unknown vars and some potential other key ones\n",
    "# starting off with K_t which determines the rate at which tumor cells are killed by chemo\n",
    "\n",
    "sweep(\"K_t\")\n",
    "\n",
    "    \n",
    "\n",
    "\n"
   ]
  },
  {
   "attachments": {},
   "cell_type": "markdown",
   "metadata": {},
   "source": [
    "Equilibrium and Stability Analysis\n",
    "\n",
    "The paper proposes calculating equilibrium with the absence of treatment so they eliminate the chemotherapy and immunotherapy equations from the system of ODEs.\n",
    "\n",
    "Let $E(T^*, N^*, D^*, L^*)$ be an equilibrium point of the system described by the system without drug intervention to represent tumor free equilibriums.\n",
    "\n",
    "Because constant recruitment through source terms  $s_1$ and $s_2$ is assumed to be constant and not equal to zero, there is no trivial equilibrium which implies: $E(T^*, N^*, D^*, L^*) \\neq (0,0,0,0) $\n",
    "\n",
    "This leaves us two equilibrium solutions: $E_1(0, N^*, D_{1}^*, 0)$ AND  $E_2(0, N^*, D_{2}^*, 0)$\n",
    "\n",
    "For tumor free equilibriums we set $dN/dt = 0$ which yields $N^* = \\frac{s_1}{e-d_1 D^*}$\n",
    "\n",
    "Similarly, setting $dD/dt = 0$ yields $D_{1,2}^* = \\frac{d_1 s_2 + d_2 s_1 + eg \\pm \\sqrt{(d_1 s_2 + d_2 s_1)^2 - 4 g e s_2}}{2 g d_1}$\n",
    "\n",
    "In order for the tumor-free equilibrium to be stable it is required that $\\lambda_1 < 0$, the first eigenvalue of the jacobian matrix for linearization of system without drug intervention. \n",
    "This implies that if the tumor growth rate $a$ is lesser than the critical value given by $c_1 N^* + J D^*$, then the tumor population can be eliminated.\n",
    "\n",
    "$\\lambda_1 = a - c_1 N^* + J D^*$\n"
   ]
  },
  {
   "cell_type": "code",
   "execution_count": 25,
   "metadata": {},
   "outputs": [
    {
     "name": "stdout",
     "output_type": "stream",
     "text": [
      "False\n",
      "before minus sign in square root 0.00285891257344\n",
      "after minus sign in square root 1.898496\n",
      "before square rooting value -1.89563708742656\n",
      "Equilibrium point one: (T* = 0.0, N *= nan, D* = nan, L* = 0.0,)\n",
      "Equilibrium point 1 stability analysis:  unstable\n",
      "Equilibrium point two: (T* = 0.0, N *= nan, D* = nan, L* = 0.0,)\n",
      "Equilibrium point 2 stability analysis:  unstable\n"
     ]
    },
    {
     "name": "stderr",
     "output_type": "stream",
     "text": [
      "/var/folders/kr/m6vn45tx0p33n65v1q9plv6w0000gn/T/ipykernel_71845/615477184.py:18: RuntimeWarning: invalid value encountered in sqrt\n",
      "  D_star1 = (((d1*s2) + (d2*s1) + (e*g)) + np.sqrt((((d1*s2 )+ (d2*s1) + (e*g))**2) - (4*g*e*s2)))/(2*g*d1)\n",
      "/var/folders/kr/m6vn45tx0p33n65v1q9plv6w0000gn/T/ipykernel_71845/615477184.py:20: RuntimeWarning: invalid value encountered in sqrt\n",
      "  D_star2 = ((d1*s2 + d2*s1 + e*g) - np.sqrt(((d1*s2 + d2*s1 + e*g)**2) - 4*g*e*s2))/(2*g*d1)\n"
     ]
    }
   ],
   "source": [
    "\n",
    "j = 1e-7    # dendritic cell tumor cell kill rate\n",
    "c1 = 3.5e-6 # NK cell tumor cell kill rate\n",
    "a = 4.31e-1 # Tumor growth rate\n",
    "d1 = 1e-6   # rate of dendritic cell priming NK cells\n",
    "d2 = 4e-6   # NK cell dendritic cell kill rate\n",
    "s1 = 1.3e4  # source of NK cells\n",
    "s2 = 4.8e2  # source of dendritic cell\n",
    "e = 4.12e-2 # death rate of NK cell\n",
    "g = 2.4e-2  # death rate of dendritic cells\n",
    "\n",
    "\n",
    "# print((d1*s2 + d2*s1 + e*g) >= 2*np.sqrt(g*e*s2))\n",
    "# print('before minus sign in square root', (d1*s2 + d2*s1 + e*g)**2)\n",
    "# print('after minus sign in square root', 4*g*e*s2)\n",
    "# print('before square rooting value', ((d1*s2 + d2*s1 + e*g)**2) - (4*g*e*s2))\n",
    "T_star = 0.0\n",
    "L_star = 0.0\n",
    "D_star1 = (((d1*s2) + (d2*s1) + (e*g)) + np.sqrt((((d1*s2 )+ (d2*s1) + (e*g))**2) - (4*g*e*s2)))/(2*g*d1)\n",
    "N_star1 = s1/(e-(d1*D_star1))\n",
    "D_star2 = ((d1*s2 + d2*s1 + e*g) - np.sqrt(((d1*s2 + d2*s1 + e*g)**2) - 4*g*e*s2))/(2*g*d1)\n",
    "N_star2 = s1/(e-(d1*D_star2))\n",
    "E1 = [T_star, N_star1, D_star1, L_star]\n",
    "E2 = [T_star, N_star2, D_star2, L_star]\n",
    "\n",
    "\n",
    "E1_stable = 'unstable'\n",
    "E2_stable = 'unstable'\n",
    "E1_stable_comp = a - (c1*N_star1) - (j*D_star1)\n",
    "E2_stable_comp = a - (c1*N_star2) - (j*D_star2)\n",
    "if(E1_stable_comp < 0.0):\n",
    "    E1_stable = 'stable'\n",
    "if(E2_stable_comp < 0.0):\n",
    "    E2_stable = 'stable'\n",
    "\n",
    "print('Equilibrium point one: (T* = %s, N *= %s, D* = %s, L* = %s,)' % (E1[0], E1[1], E1[2], E1[3]))\n",
    "print('Equilibrium point 1 stability analysis: ', E1_stable)\n",
    "print('Equilibrium point two: (T* = %s, N *= %s, D* = %s, L* = %s,)' % (E2[0], E2[1], E2[2], E2[3]))\n",
    "print('Equilibrium point 2 stability analysis: ', E2_stable)\n",
    "\n"
   ]
  },
  {
   "cell_type": "code",
   "execution_count": null,
   "metadata": {},
   "outputs": [],
   "source": []
  }
 ],
 "metadata": {
  "kernelspec": {
   "display_name": "Python 3",
   "language": "python",
   "name": "python3"
  },
  "language_info": {
   "codemirror_mode": {
    "name": "ipython",
    "version": 3
   },
   "file_extension": ".py",
   "mimetype": "text/x-python",
   "name": "python",
   "nbconvert_exporter": "python",
   "pygments_lexer": "ipython3",
   "version": "3.8.13"
  }
 },
 "nbformat": 4,
 "nbformat_minor": 4
}
